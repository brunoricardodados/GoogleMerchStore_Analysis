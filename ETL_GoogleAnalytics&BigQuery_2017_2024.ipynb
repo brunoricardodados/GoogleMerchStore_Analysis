{
  "nbformat": 4,
  "nbformat_minor": 0,
  "metadata": {
    "colab": {
      "provenance": []
    },
    "kernelspec": {
      "name": "python3",
      "display_name": "Python 3"
    },
    "language_info": {
      "name": "python"
    }
  },
  "cells": [
    {
      "cell_type": "code",
      "source": [
        "import pandas as pd\n",
        "\n",
        "# 1️⃣ Ler os arquivos originais\n",
        "c1 = pd.read_csv('/content/Consulta01.csv')\n",
        "c2 = pd.read_csv('/content/Consulta02.csv')\n",
        "c3 = pd.read_csv('/content/Consulta03.csv')\n",
        "\n",
        "# Print para visualizar rapidamente\n",
        "print(\"Consulta01 (top 5):\")\n",
        "print(c1.head(), \"\\n\")\n",
        "\n",
        "print(\"Consulta02 (top 5):\")\n",
        "print(c2.head(), \"\\n\")\n",
        "\n",
        "print(\"Consulta03 (top 5):\")\n",
        "print(c3.head())\n"
      ],
      "metadata": {
        "colab": {
          "base_uri": "https://localhost:8080/"
        },
        "id": "Pq-WleRL9nE9",
        "outputId": "710cb07d-1d58-4f01-96c4-f70f74e53dfe"
      },
      "execution_count": 7,
      "outputs": [
        {
          "output_type": "stream",
          "name": "stdout",
          "text": [
            "Consulta01 (top 5):\n",
            "          country  unique_visitors  total_visits\n",
            "0   United States             1103          1287\n",
            "1           India              144           155\n",
            "2  United Kingdom              132           142\n",
            "3         Germany               86            91\n",
            "4          Canada               80            85 \n",
            "\n",
            "Consulta02 (top 5):\n",
            "                 source     medium  unique_visitors  total_visits  \\\n",
            "0              (direct)     (none)             1943          2166   \n",
            "1           youtube.com   referral              178           180   \n",
            "2  analytics.google.com   referral               53            57   \n",
            "3              Partners  affiliate               49            52   \n",
            "4                   dfa        cpm                8            15   \n",
            "\n",
            "   total_pageviews  total_bounces  avg_time_on_site  \n",
            "0            10069            985        338.587234  \n",
            "1              299            139        190.951220  \n",
            "2              113             34        172.608696  \n",
            "3              136             30        197.318182  \n",
            "4               61              6        262.000000   \n",
            "\n",
            "Consulta03 (top 5):\n",
            "                         840.9851.257.6524.292.18550  3%51s528116139  \\\n",
            "0  Totais1Zimbabwe2Zimbabwe3Zimbabwe4Zimbabwe5Zim...             NaN   \n",
            "1  Total de usuáriosSessõesVisualizaçõesTaxa de r...             NaN   \n",
            "2                 PaísOrigem da sessãoMeio da sessão             NaN   \n",
            "\n",
            "   5%43s203130  0%1 min 29 s1130  0%1 min 00 s1110  0%2 min 13 s20307930  \\\n",
            "0          NaN               NaN               NaN                   NaN   \n",
            "1          NaN               NaN               NaN                   NaN   \n",
            "2          NaN               NaN               NaN                   NaN   \n",
            "\n",
            "   0%1 min 02 s172614338  5%1 min 54 s93366  7%5s1120  0%0s17233530  \\\n",
            "0                    NaN                NaN       NaN           NaN   \n",
            "1                    NaN                NaN       NaN           NaN   \n",
            "2                    NaN                NaN       NaN           NaN   \n",
            "\n",
            "   4%23s45560  0%7s  \n",
            "0         NaN   NaN  \n",
            "1         NaN   NaN  \n",
            "2         NaN   NaN  \n"
          ]
        }
      ]
    },
    {
      "cell_type": "code",
      "source": [
        "# 2️⃣ Visualizar nomes originais das colunas para planejar padronização\n",
        "\n",
        "print(\"Colunas Consulta01:\")\n",
        "print(c1.columns.tolist(), \"\\n\")\n",
        "\n",
        "print(\"Colunas Consulta02:\")\n",
        "print(c2.columns.tolist(), \"\\n\")\n",
        "\n",
        "print(\"Colunas Consulta03:\")\n",
        "print(c3.columns.tolist())\n"
      ],
      "metadata": {
        "colab": {
          "base_uri": "https://localhost:8080/"
        },
        "id": "ZKKow6oa-Od_",
        "outputId": "bb95203e-606c-4191-f963-2a76bf76b3c5"
      },
      "execution_count": 8,
      "outputs": [
        {
          "output_type": "stream",
          "name": "stdout",
          "text": [
            "Colunas Consulta01:\n",
            "['country', 'unique_visitors', 'total_visits'] \n",
            "\n",
            "Colunas Consulta02:\n",
            "['source', 'medium', 'unique_visitors', 'total_visits', 'total_pageviews', 'total_bounces', 'avg_time_on_site'] \n",
            "\n",
            "Colunas Consulta03:\n",
            "['840.9851.257.6524.292.18550', '3%51s528116139', '5%43s203130', '0%1 min 29 s1130', '0%1 min 00 s1110', '0%2 min 13 s20307930', '0%1 min 02 s172614338', '5%1 min 54 s93366', '7%5s1120', '0%0s17233530', '4%23s45560', '0%7s']\n"
          ]
        }
      ]
    },
    {
      "cell_type": "code",
      "source": [
        "\n",
        "# 1️⃣ Ler arquivos\n",
        "c1 = pd.read_csv('/content/Consulta01.csv')\n",
        "c2 = pd.read_csv('/content/Consulta02.csv')\n",
        "\n",
        "# 2️⃣ Padronizar colunas para facilitar merge lado a lado\n",
        "c1.columns = c1.columns.str.lower().str.strip()\n",
        "c2.columns = c2.columns.str.lower().str.strip()\n",
        "\n",
        "# 3️⃣ Concatenar lado a lado (linha por linha)\n",
        "\n",
        "#Quando usamos reset_index(drop=True):\n",
        "\n",
        "#Ele zera os índices (0,1,2,...)\n",
        "\n",
        "#O parâmetro drop=True faz o índice antigo sumir (não vira coluna)- assim consigio concatenar\n",
        "\n",
        "#drop() → Remove colunas ou linhas.\n",
        "\n",
        "#axis=1 → Quer dizer que estamos apagando colunas, não linhas.\n",
        "\n",
        "consulta2017 = pd.concat(\n",
        "    [\n",
        "        c1.reset_index(drop=True),\n",
        "        c2.reset_index(drop=True).drop(['unique_visitors', 'total_visits'], axis=1)\n",
        "    ],\n",
        "    axis=1\n",
        ")\n",
        "\n",
        "#Significa Zera o índice de c2\n",
        "\n",
        "###Remove as colunas repetidas\n",
        "\n",
        "Retorna o DataFrame limpinho para poder concatenar lado a lado com c1\n",
        "\n",
        "# 4️⃣ Adicionar coluna de ano\n",
        "consulta2017['ano'] = 2017\n",
        "\n",
        "# 5️⃣ Renomear colunas para português\n",
        "consulta2017.columns = [\n",
        "    'pais', 'visitantes_unicos', 'visitas_totais',\n",
        "    'origem', 'meio',\n",
        "    'visualizacoes_totais', 'rejeicoes_totais', 'tempo_medio_no_site',\n",
        "    'ano'\n",
        "]\n",
        "\n",
        "# 6️⃣ Mostrar todas as linhas\n",
        "pd.set_option('display.max_rows', None)\n",
        "pd.set_option('display.max_columns', None)\n",
        "print(consulta2017)\n"
      ],
      "metadata": {
        "colab": {
          "base_uri": "https://localhost:8080/"
        },
        "id": "ey-ix2vbEaLv",
        "outputId": "e75fdcc1-ab9c-4b53-8c35-2d7c3ec1576c"
      },
      "execution_count": 15,
      "outputs": [
        {
          "output_type": "stream",
          "name": "stdout",
          "text": [
            "             pais  visitantes_unicos  visitas_totais                origem  \\\n",
            "0   United States               1103            1287              (direct)   \n",
            "1           India                144             155           youtube.com   \n",
            "2  United Kingdom                132             142  analytics.google.com   \n",
            "3         Germany                 86              91              Partners   \n",
            "4          Canada                 80              85                   dfa   \n",
            "5       Australia                 42              44            google.com   \n",
            "6           Japan                 38              41      sites.google.com   \n",
            "7          Russia                 40              41          facebook.com   \n",
            "8          France                 36              40             quora.com   \n",
            "9           Italy                 26              31                 baidu   \n",
            "\n",
            "        meio  visualizacoes_totais  rejeicoes_totais  tempo_medio_no_site  \\\n",
            "0     (none)                 10069               985           338.587234   \n",
            "1   referral                   299               139           190.951220   \n",
            "2   referral                   113                34           172.608696   \n",
            "3  affiliate                   136                30           197.318182   \n",
            "4        cpm                    61                 6           262.000000   \n",
            "5   referral                    34                 9           306.000000   \n",
            "6   referral                    33                 1            79.166667   \n",
            "7   referral                    26                 4           701.000000   \n",
            "8   referral                    12                 4            46.000000   \n",
            "9    organic                     9                 4            97.000000   \n",
            "\n",
            "    ano  \n",
            "0  2017  \n",
            "1  2017  \n",
            "2  2017  \n",
            "3  2017  \n",
            "4  2017  \n",
            "5  2017  \n",
            "6  2017  \n",
            "7  2017  \n",
            "8  2017  \n",
            "9  2017  \n"
          ]
        }
      ]
    },
    {
      "cell_type": "code",
      "source": [
        "# 🔹 Dados do seu print do GA4\n",
        "dados = [\n",
        "    [\"United States\", \"(direct)\", \"(none)\", 243128, 373451, 1429089, \"46,0%\", \"1 min 00 s\"],\n",
        "    [\"(not set)\", \"(direct)\", \"(none)\", 156742, 156136, 209987, \"94,0%\", \"0s\"],\n",
        "    [\"United States\", \"(not set)\", \"(not set)\", 148963, 18175, 50900, \"91,3%\", \"52s\"],\n",
        "    [\"United States\", \"google\", \"organic\", 64783, 107411, 473008, \"32,1%\", \"1 min 10 s\"],\n",
        "    [\"Canada\", \"(direct)\", \"(none)\", 36901, 57560, 138217, \"62,4%\", \"25s\"],\n",
        "    [\"United States\", \"google\", \"cpc\", 33073, 40668, 258473, \"29,1%\", \"1 min 33 s\"],\n",
        "    [\"India\", \"(direct)\", \"(none)\", 26791, 12750, 112467, \"41,5%\", \"31s\"],\n",
        "    [\"India\", \"google\", \"organic\", 24457, 10311, 82725, \"28,9%\", \"43s\"],\n",
        "    [\"China\", \"baidu\", \"organic\", 23773, 29058, 38529, \"46,6%\", \"0s\"],\n",
        "    [\"United States\", \"art-analytics.appspot.com\", \"referral\", 15037, 19396, 198767, \"24,1%\", \"1 min 39 s\"],\n",
        "]\n",
        "\n",
        "# 🔹 Criando DataFrame com coluna de ano\n",
        "colunas = [\n",
        "    \"País\", \"Origem da sessão\", \"Meio da sessão\",\n",
        "    \"Total de usuários\", \"Sessões\", \"Visualizações\",\n",
        "    \"Taxa de rejeição\", \"Tempo médio de engajamento\", \"Ano\"\n",
        "]\n",
        "\n",
        "df = pd.DataFrame(dados, columns=colunas[:-1])  # cria sem Ano\n",
        "df[\"Ano\"] = 2024  # adiciona coluna Ano\n",
        "\n",
        "# 🔹 Salvar em CSV\n",
        "df.to_csv(\"Consulta2024.csv\", index=False, encoding=\"utf-8-sig\")\n",
        "\n",
        "# 🔹 Printar tabela completa no Colab\n",
        "print(df.to_string(index=False))"
      ],
      "metadata": {
        "colab": {
          "base_uri": "https://localhost:8080/"
        },
        "id": "IbPdH8xyIEjg",
        "outputId": "3deb2a5b-6dd5-4879-acdf-1c16f2378213"
      },
      "execution_count": 22,
      "outputs": [
        {
          "output_type": "stream",
          "name": "stdout",
          "text": [
            "         País          Origem da sessão Meio da sessão  Total de usuários  Sessões  Visualizações Taxa de rejeição Tempo médio de engajamento  Ano\n",
            "United States                  (direct)         (none)             243128   373451        1429089            46,0%                 1 min 00 s 2024\n",
            "    (not set)                  (direct)         (none)             156742   156136         209987            94,0%                         0s 2024\n",
            "United States                 (not set)      (not set)             148963    18175          50900            91,3%                        52s 2024\n",
            "United States                    google        organic              64783   107411         473008            32,1%                 1 min 10 s 2024\n",
            "       Canada                  (direct)         (none)              36901    57560         138217            62,4%                        25s 2024\n",
            "United States                    google            cpc              33073    40668         258473            29,1%                 1 min 33 s 2024\n",
            "        India                  (direct)         (none)              26791    12750         112467            41,5%                        31s 2024\n",
            "        India                    google        organic              24457    10311          82725            28,9%                        43s 2024\n",
            "        China                     baidu        organic              23773    29058          38529            46,6%                         0s 2024\n",
            "United States art-analytics.appspot.com       referral              15037    19396         198767            24,1%                 1 min 39 s 2024\n"
          ]
        }
      ]
    }
  ]
}